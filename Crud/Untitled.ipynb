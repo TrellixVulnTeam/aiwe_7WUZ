{
 "cells": [
  {
   "cell_type": "code",
   "execution_count": 33,
   "metadata": {},
   "outputs": [],
   "source": [
    "import requests\n",
    "import m3u8"
   ]
  },
  {
   "cell_type": "code",
   "execution_count": 40,
   "metadata": {},
   "outputs": [],
   "source": [
    "url = \"https://e1v-h.phncdn.com/hls/videos/202205/03/407449211/,1080P_4000K,720P_4000K,480P_2000K,240P_1000K,_407449211.mp4.urlset/master.m3u8?validfrom=1652885848&validto=1652893048&ip=193.176.84.150&ipa=193.176.84.150&hdl=-1&hash=4NXRXTpBnI%2B0Ta0i%2Bnpy3hxgpcg%3D&\""
   ]
  },
  {
   "cell_type": "code",
   "execution_count": 41,
   "metadata": {},
   "outputs": [],
   "source": [
    "r = requests.get(url)"
   ]
  },
  {
   "cell_type": "code",
   "execution_count": 42,
   "metadata": {},
   "outputs": [],
   "source": [
    "m3u8_master = m3u8.loads(r.text)"
   ]
  },
  {
   "cell_type": "code",
   "execution_count": 43,
   "metadata": {},
   "outputs": [
    {
     "data": {
      "text/plain": [
       "m3u8.model.M3U8"
      ]
     },
     "execution_count": 43,
     "metadata": {},
     "output_type": "execute_result"
    }
   ],
   "source": [
    "type(m3u8_master)"
   ]
  },
  {
   "cell_type": "code",
   "execution_count": 45,
   "metadata": {},
   "outputs": [],
   "source": [
    "url = \"https://e1v-h.phncdn.com/hls/videos/202205/03/407449211/,1080P_4000K,720P_4000K,480P_2000K,240P_1000K,_407449211.mp4.urlset/seg-1-f2-v1-a1.ts?validfrom=1652885848&validto=1652893048&ip=193.176.84.150&ipa=193.176.84.150&hdl=-1&hash=4NXRXTpBnI%2B0Ta0i%2Bnpy3hxgpcg%3D&&&\""
   ]
  },
  {
   "cell_type": "code",
   "execution_count": 46,
   "metadata": {},
   "outputs": [
    {
     "data": {
      "text/plain": [
       "'https://e1v-h.phncdn.com/hls/videos/202205/03/407449211/,1080P_4000K,720P_4000K,480P_2000K,240P_1000K,_407449211.mp4.urlset/seg-1-f2-v1-a1.ts?validfrom=1652885848&validto=1652893048&ip=193.176.84.150&ipa=193.176.84.150&hdl=-1&hash=4NXRXTpBnI%2B0Ta0i%2Bnpy3hxgpcg%3D&&&'"
      ]
     },
     "execution_count": 46,
     "metadata": {},
     "output_type": "execute_result"
    }
   ],
   "source": [
    "url"
   ]
  },
  {
   "cell_type": "code",
   "execution_count": null,
   "metadata": {},
   "outputs": [],
   "source": []
  },
  {
   "cell_type": "code",
   "execution_count": 44,
   "metadata": {},
   "outputs": [
    {
     "data": {
      "text/plain": [
       "{'media_sequence': None,\n",
       " 'is_variant': True,\n",
       " 'is_endlist': False,\n",
       " 'is_i_frames_only': False,\n",
       " 'is_independent_segments': False,\n",
       " 'playlist_type': None,\n",
       " 'playlists': [{'uri': 'index-f1-v1-a1.m3u8?validfrom=1652885848&validto=1652893048&ip=193.176.84.150&ipa=193.176.84.150&hdl=-1&hash=4NXRXTpBnI%2B0Ta0i%2Bnpy3hxgpcg%3D&',\n",
       "   'stream_info': {'program_id': 1,\n",
       "    'bandwidth': 2748921,\n",
       "    'resolution': '1920x1080',\n",
       "    'frame_rate': 25.0,\n",
       "    'codecs': 'avc1.640028,mp4a.40.2'}},\n",
       "  {'uri': 'index-f2-v1-a1.m3u8?validfrom=1652885848&validto=1652893048&ip=193.176.84.150&ipa=193.176.84.150&hdl=-1&hash=4NXRXTpBnI%2B0Ta0i%2Bnpy3hxgpcg%3D&',\n",
       "   'stream_info': {'program_id': 1,\n",
       "    'bandwidth': 1873746,\n",
       "    'resolution': '1280x720',\n",
       "    'frame_rate': 25.0,\n",
       "    'codecs': 'avc1.64001f,mp4a.40.2'}},\n",
       "  {'uri': 'index-f3-v1-a1.m3u8?validfrom=1652885848&validto=1652893048&ip=193.176.84.150&ipa=193.176.84.150&hdl=-1&hash=4NXRXTpBnI%2B0Ta0i%2Bnpy3hxgpcg%3D&',\n",
       "   'stream_info': {'program_id': 1,\n",
       "    'bandwidth': 923608,\n",
       "    'resolution': '854x480',\n",
       "    'frame_rate': 25.0,\n",
       "    'codecs': 'avc1.64001e,mp4a.40.2'}},\n",
       "  {'uri': 'index-f4-v1-a1.m3u8?validfrom=1652885848&validto=1652893048&ip=193.176.84.150&ipa=193.176.84.150&hdl=-1&hash=4NXRXTpBnI%2B0Ta0i%2Bnpy3hxgpcg%3D&',\n",
       "   'stream_info': {'program_id': 1,\n",
       "    'bandwidth': 416529,\n",
       "    'resolution': '426x240',\n",
       "    'frame_rate': 25.0,\n",
       "    'codecs': 'avc1.640015,mp4a.40.2'}}],\n",
       " 'segments': [],\n",
       " 'iframe_playlists': [],\n",
       " 'media': [],\n",
       " 'keys': [],\n",
       " 'rendition_reports': [],\n",
       " 'skip': {},\n",
       " 'part_inf': {},\n",
       " 'session_data': [],\n",
       " 'session_keys': [],\n",
       " 'segment_map': []}"
      ]
     },
     "execution_count": 44,
     "metadata": {},
     "output_type": "execute_result"
    }
   ],
   "source": [
    "m3u8_master.data"
   ]
  },
  {
   "cell_type": "code",
   "execution_count": 31,
   "metadata": {},
   "outputs": [
    {
     "data": {
      "text/plain": [
       "[{'uri': 'index-f1-v1-a1.m3u8?validfrom=1652883332&validto=1652890532&ip=193.176.84.150&ipa=193.176.84.150&hdl=-1&hash=0UML%2BxtHiC%2BQR8VjlO2sFGcVS4w%3D&',\n",
       "  'stream_info': {'program_id': 1,\n",
       "   'bandwidth': 2365730,\n",
       "   'resolution': '1920x1080',\n",
       "   'frame_rate': 25.0,\n",
       "   'codecs': 'avc1.640028,mp4a.40.2'}},\n",
       " {'uri': 'index-f2-v1-a1.m3u8?validfrom=1652883332&validto=1652890532&ip=193.176.84.150&ipa=193.176.84.150&hdl=-1&hash=0UML%2BxtHiC%2BQR8VjlO2sFGcVS4w%3D&',\n",
       "  'stream_info': {'program_id': 1,\n",
       "   'bandwidth': 1588272,\n",
       "   'resolution': '1280x720',\n",
       "   'frame_rate': 25.0,\n",
       "   'codecs': 'avc1.64001f,mp4a.40.2'}},\n",
       " {'uri': 'index-f3-v1-a1.m3u8?validfrom=1652883332&validto=1652890532&ip=193.176.84.150&ipa=193.176.84.150&hdl=-1&hash=0UML%2BxtHiC%2BQR8VjlO2sFGcVS4w%3D&',\n",
       "  'stream_info': {'program_id': 1,\n",
       "   'bandwidth': 848687,\n",
       "   'resolution': '854x480',\n",
       "   'frame_rate': 25.0,\n",
       "   'codecs': 'avc1.64001e,mp4a.40.2'}},\n",
       " {'uri': 'index-f4-v1-a1.m3u8?validfrom=1652883332&validto=1652890532&ip=193.176.84.150&ipa=193.176.84.150&hdl=-1&hash=0UML%2BxtHiC%2BQR8VjlO2sFGcVS4w%3D&',\n",
       "  'stream_info': {'program_id': 1,\n",
       "   'bandwidth': 383309,\n",
       "   'resolution': '426x240',\n",
       "   'frame_rate': 25.0,\n",
       "   'codecs': 'avc1.640015,mp4a.40.2'}}]"
      ]
     },
     "execution_count": 31,
     "metadata": {},
     "output_type": "execute_result"
    }
   ],
   "source": [
    "playlist"
   ]
  },
  {
   "cell_type": "code",
   "execution_count": 27,
   "metadata": {},
   "outputs": [],
   "source": [
    "r = requests.get(playlist)"
   ]
  },
  {
   "cell_type": "code",
   "execution_count": 29,
   "metadata": {},
   "outputs": [],
   "source": [
    "with open('video1.ts','wb') as f:\n",
    "    f.write(r.content)"
   ]
  },
  {
   "cell_type": "code",
   "execution_count": 83,
   "metadata": {},
   "outputs": [],
   "source": [
    "playlist=\"https://bhstream.hungama.com/7/1a/\"+m3u8_master.data['segments'][0]['uri']"
   ]
  },
  {
   "cell_type": "code",
   "execution_count": 85,
   "metadata": {},
   "outputs": [
    {
     "name": "stdout",
     "output_type": "stream",
     "text": [
      "PardaDaariOfficialSong-144000.mp4+0.ts?Fb-F1ry4JrATTE3_z8-30nruwEE_PWuOZXEGwX69nzi2NApPQszhtbdIU5gAQOja6KK5jPKUNIaJr36h4O1iw9Bj6trJYXC7Pg3u__kIjVj4ND22wQ7l15LbMA\n",
      "PardaDaariOfficialSong-144000.mp4+10166.ts?Fb-F1ry4JrATTE3_z8-30nruwEE_PWuOZXEGwX69nzi2NApPQszhtbdIU5gAQOja6KK5jPKUNIaJr36h4O1iw9Bj6trJYXC7Pg3u__kIjVj4ND22wQ7l15LbMA\n",
      "PardaDaariOfficialSong-144000.mp4+20416.ts?Fb-F1ry4JrATTE3_z8-30nruwEE_PWuOZXEGwX69nzi2NApPQszhtbdIU5gAQOja6KK5jPKUNIaJr36h4O1iw9Bj6trJYXC7Pg3u__kIjVj4ND22wQ7l15LbMA\n",
      "PardaDaariOfficialSong-144000.mp4+35166.ts?Fb-F1ry4JrATTE3_z8-30nruwEE_PWuOZXEGwX69nzi2NApPQszhtbdIU5gAQOja6KK5jPKUNIaJr36h4O1iw9Bj6trJYXC7Pg3u__kIjVj4ND22wQ7l15LbMA\n",
      "PardaDaariOfficialSong-144000.mp4+42375.ts?Fb-F1ry4JrATTE3_z8-30nruwEE_PWuOZXEGwX69nzi2NApPQszhtbdIU5gAQOja6KK5jPKUNIaJr36h4O1iw9Bj6trJYXC7Pg3u__kIjVj4ND22wQ7l15LbMA\n",
      "PardaDaariOfficialSong-144000.mp4+53666.ts?Fb-F1ry4JrATTE3_z8-30nruwEE_PWuOZXEGwX69nzi2NApPQszhtbdIU5gAQOja6KK5jPKUNIaJr36h4O1iw9Bj6trJYXC7Pg3u__kIjVj4ND22wQ7l15LbMA\n",
      "PardaDaariOfficialSong-144000.mp4+60208.ts?Fb-F1ry4JrATTE3_z8-30nruwEE_PWuOZXEGwX69nzi2NApPQszhtbdIU5gAQOja6KK5jPKUNIaJr36h4O1iw9Bj6trJYXC7Pg3u__kIjVj4ND22wQ7l15LbMA\n",
      "PardaDaariOfficialSong-144000.mp4+71041.ts?Fb-F1ry4JrATTE3_z8-30nruwEE_PWuOZXEGwX69nzi2NApPQszhtbdIU5gAQOja6KK5jPKUNIaJr36h4O1iw9Bj6trJYXC7Pg3u__kIjVj4ND22wQ7l15LbMA\n",
      "PardaDaariOfficialSong-144000.mp4+83000.ts?Fb-F1ry4JrATTE3_z8-30nruwEE_PWuOZXEGwX69nzi2NApPQszhtbdIU5gAQOja6KK5jPKUNIaJr36h4O1iw9Bj6trJYXC7Pg3u__kIjVj4ND22wQ7l15LbMA\n",
      "PardaDaariOfficialSong-144000.mp4+90500.ts?Fb-F1ry4JrATTE3_z8-30nruwEE_PWuOZXEGwX69nzi2NApPQszhtbdIU5gAQOja6KK5jPKUNIaJr36h4O1iw9Bj6trJYXC7Pg3u__kIjVj4ND22wQ7l15LbMA\n",
      "PardaDaariOfficialSong-144000.mp4+103125.ts?Fb-F1ry4JrATTE3_z8-30nruwEE_PWuOZXEGwX69nzi2NApPQszhtbdIU5gAQOja6KK5jPKUNIaJr36h4O1iw9Bj6trJYXC7Pg3u__kIjVj4ND22wQ7l15LbMA\n",
      "PardaDaariOfficialSong-144000.mp4+111250.ts?Fb-F1ry4JrATTE3_z8-30nruwEE_PWuOZXEGwX69nzi2NApPQszhtbdIU5gAQOja6KK5jPKUNIaJr36h4O1iw9Bj6trJYXC7Pg3u__kIjVj4ND22wQ7l15LbMA\n",
      "PardaDaariOfficialSong-144000.mp4+123375.ts?Fb-F1ry4JrATTE3_z8-30nruwEE_PWuOZXEGwX69nzi2NApPQszhtbdIU5gAQOja6KK5jPKUNIaJr36h4O1iw9Bj6trJYXC7Pg3u__kIjVj4ND22wQ7l15LbMA\n",
      "PardaDaariOfficialSong-144000.mp4+130500.ts?Fb-F1ry4JrATTE3_z8-30nruwEE_PWuOZXEGwX69nzi2NApPQszhtbdIU5gAQOja6KK5jPKUNIaJr36h4O1iw9Bj6trJYXC7Pg3u__kIjVj4ND22wQ7l15LbMA\n",
      "PardaDaariOfficialSong-144000.mp4+142375.ts?Fb-F1ry4JrATTE3_z8-30nruwEE_PWuOZXEGwX69nzi2NApPQszhtbdIU5gAQOja6KK5jPKUNIaJr36h4O1iw9Bj6trJYXC7Pg3u__kIjVj4ND22wQ7l15LbMA\n",
      "PardaDaariOfficialSong-144000.mp4+150500.ts?Fb-F1ry4JrATTE3_z8-30nruwEE_PWuOZXEGwX69nzi2NApPQszhtbdIU5gAQOja6KK5jPKUNIaJr36h4O1iw9Bj6trJYXC7Pg3u__kIjVj4ND22wQ7l15LbMA\n"
     ]
    }
   ],
   "source": [
    "for segment in m3u8_master.data['segments']:\n",
    "    print(segment['uri'])"
   ]
  },
  {
   "cell_type": "code",
   "execution_count": 77,
   "metadata": {},
   "outputs": [
    {
     "data": {
      "text/plain": [
       "'https://bhstream.hungama.com/7/1a/PardaDaariOfficialSong-144000.mp4+0.ts?Fb-F1ry4JrATTE3_z8-30nruwEE_PWuOZXEGwX69nzi2NApPQszhtbdIU5gAQOja6KK5jPKUNIaJr36h4O1iw9Bj6trJYXC7Pg3u__kIjVj4ND22wQ7l15LbMA'"
      ]
     },
     "execution_count": 77,
     "metadata": {},
     "output_type": "execute_result"
    }
   ],
   "source": [
    "playlist"
   ]
  },
  {
   "cell_type": "code",
   "execution_count": 79,
   "metadata": {},
   "outputs": [],
   "source": [
    "r = requests.get(playlist)"
   ]
  },
  {
   "cell_type": "code",
   "execution_count": 86,
   "metadata": {},
   "outputs": [],
   "source": [
    "with open('video1.ts','wb') as f:\n",
    "    for segment in m3u8_master.data['segments']:\n",
    "        url = \"https://bhstream.hungama.com/7/1a/\"+segment['uri']\n",
    "        r = requests.get(url)\n",
    "        f.write(r.content)"
   ]
  },
  {
   "cell_type": "code",
   "execution_count": 87,
   "metadata": {},
   "outputs": [],
   "source": [
    "import subprocess"
   ]
  },
  {
   "cell_type": "code",
   "execution_count": 89,
   "metadata": {},
   "outputs": [
    {
     "ename": "FileNotFoundError",
     "evalue": "[Errno 2] No such file or directory: 'ffmpeg': 'ffmpeg'",
     "output_type": "error",
     "traceback": [
      "\u001b[0;31m---------------------------------------------------------------------------\u001b[0m",
      "\u001b[0;31mFileNotFoundError\u001b[0m                         Traceback (most recent call last)",
      "\u001b[0;32m<ipython-input-89-11e13149f9a4>\u001b[0m in \u001b[0;36m<module>\u001b[0;34m\u001b[0m\n\u001b[0;32m----> 1\u001b[0;31m \u001b[0msubprocess\u001b[0m\u001b[0;34m.\u001b[0m\u001b[0mrun\u001b[0m\u001b[0;34m(\u001b[0m\u001b[0;34m[\u001b[0m\u001b[0;34m'ffmpeg'\u001b[0m\u001b[0;34m,\u001b[0m \u001b[0;34m'-i'\u001b[0m\u001b[0;34m,\u001b[0m \u001b[0;34m'video1.ts'\u001b[0m\u001b[0;34m,\u001b[0m \u001b[0;34m'vid.mp4'\u001b[0m\u001b[0;34m]\u001b[0m\u001b[0;34m)\u001b[0m\u001b[0;34m\u001b[0m\u001b[0;34m\u001b[0m\u001b[0m\n\u001b[0m",
      "\u001b[0;32m~/anaconda3/lib/python3.7/subprocess.py\u001b[0m in \u001b[0;36mrun\u001b[0;34m(input, capture_output, timeout, check, *popenargs, **kwargs)\u001b[0m\n\u001b[1;32m    486\u001b[0m         \u001b[0mkwargs\u001b[0m\u001b[0;34m[\u001b[0m\u001b[0;34m'stderr'\u001b[0m\u001b[0;34m]\u001b[0m \u001b[0;34m=\u001b[0m \u001b[0mPIPE\u001b[0m\u001b[0;34m\u001b[0m\u001b[0;34m\u001b[0m\u001b[0m\n\u001b[1;32m    487\u001b[0m \u001b[0;34m\u001b[0m\u001b[0m\n\u001b[0;32m--> 488\u001b[0;31m     \u001b[0;32mwith\u001b[0m \u001b[0mPopen\u001b[0m\u001b[0;34m(\u001b[0m\u001b[0;34m*\u001b[0m\u001b[0mpopenargs\u001b[0m\u001b[0;34m,\u001b[0m \u001b[0;34m**\u001b[0m\u001b[0mkwargs\u001b[0m\u001b[0;34m)\u001b[0m \u001b[0;32mas\u001b[0m \u001b[0mprocess\u001b[0m\u001b[0;34m:\u001b[0m\u001b[0;34m\u001b[0m\u001b[0;34m\u001b[0m\u001b[0m\n\u001b[0m\u001b[1;32m    489\u001b[0m         \u001b[0;32mtry\u001b[0m\u001b[0;34m:\u001b[0m\u001b[0;34m\u001b[0m\u001b[0;34m\u001b[0m\u001b[0m\n\u001b[1;32m    490\u001b[0m             \u001b[0mstdout\u001b[0m\u001b[0;34m,\u001b[0m \u001b[0mstderr\u001b[0m \u001b[0;34m=\u001b[0m \u001b[0mprocess\u001b[0m\u001b[0;34m.\u001b[0m\u001b[0mcommunicate\u001b[0m\u001b[0;34m(\u001b[0m\u001b[0minput\u001b[0m\u001b[0;34m,\u001b[0m \u001b[0mtimeout\u001b[0m\u001b[0;34m=\u001b[0m\u001b[0mtimeout\u001b[0m\u001b[0;34m)\u001b[0m\u001b[0;34m\u001b[0m\u001b[0;34m\u001b[0m\u001b[0m\n",
      "\u001b[0;32m~/anaconda3/lib/python3.7/subprocess.py\u001b[0m in \u001b[0;36m__init__\u001b[0;34m(self, args, bufsize, executable, stdin, stdout, stderr, preexec_fn, close_fds, shell, cwd, env, universal_newlines, startupinfo, creationflags, restore_signals, start_new_session, pass_fds, encoding, errors, text)\u001b[0m\n\u001b[1;32m    798\u001b[0m                                 \u001b[0mc2pread\u001b[0m\u001b[0;34m,\u001b[0m \u001b[0mc2pwrite\u001b[0m\u001b[0;34m,\u001b[0m\u001b[0;34m\u001b[0m\u001b[0;34m\u001b[0m\u001b[0m\n\u001b[1;32m    799\u001b[0m                                 \u001b[0merrread\u001b[0m\u001b[0;34m,\u001b[0m \u001b[0merrwrite\u001b[0m\u001b[0;34m,\u001b[0m\u001b[0;34m\u001b[0m\u001b[0;34m\u001b[0m\u001b[0m\n\u001b[0;32m--> 800\u001b[0;31m                                 restore_signals, start_new_session)\n\u001b[0m\u001b[1;32m    801\u001b[0m         \u001b[0;32mexcept\u001b[0m\u001b[0;34m:\u001b[0m\u001b[0;34m\u001b[0m\u001b[0;34m\u001b[0m\u001b[0m\n\u001b[1;32m    802\u001b[0m             \u001b[0;31m# Cleanup if the child failed starting.\u001b[0m\u001b[0;34m\u001b[0m\u001b[0;34m\u001b[0m\u001b[0;34m\u001b[0m\u001b[0m\n",
      "\u001b[0;32m~/anaconda3/lib/python3.7/subprocess.py\u001b[0m in \u001b[0;36m_execute_child\u001b[0;34m(self, args, executable, preexec_fn, close_fds, pass_fds, cwd, env, startupinfo, creationflags, shell, p2cread, p2cwrite, c2pread, c2pwrite, errread, errwrite, restore_signals, start_new_session)\u001b[0m\n\u001b[1;32m   1549\u001b[0m                         \u001b[0;32mif\u001b[0m \u001b[0merrno_num\u001b[0m \u001b[0;34m==\u001b[0m \u001b[0merrno\u001b[0m\u001b[0;34m.\u001b[0m\u001b[0mENOENT\u001b[0m\u001b[0;34m:\u001b[0m\u001b[0;34m\u001b[0m\u001b[0;34m\u001b[0m\u001b[0m\n\u001b[1;32m   1550\u001b[0m                             \u001b[0merr_msg\u001b[0m \u001b[0;34m+=\u001b[0m \u001b[0;34m': '\u001b[0m \u001b[0;34m+\u001b[0m \u001b[0mrepr\u001b[0m\u001b[0;34m(\u001b[0m\u001b[0merr_filename\u001b[0m\u001b[0;34m)\u001b[0m\u001b[0;34m\u001b[0m\u001b[0;34m\u001b[0m\u001b[0m\n\u001b[0;32m-> 1551\u001b[0;31m                     \u001b[0;32mraise\u001b[0m \u001b[0mchild_exception_type\u001b[0m\u001b[0;34m(\u001b[0m\u001b[0merrno_num\u001b[0m\u001b[0;34m,\u001b[0m \u001b[0merr_msg\u001b[0m\u001b[0;34m,\u001b[0m \u001b[0merr_filename\u001b[0m\u001b[0;34m)\u001b[0m\u001b[0;34m\u001b[0m\u001b[0;34m\u001b[0m\u001b[0m\n\u001b[0m\u001b[1;32m   1552\u001b[0m                 \u001b[0;32mraise\u001b[0m \u001b[0mchild_exception_type\u001b[0m\u001b[0;34m(\u001b[0m\u001b[0merr_msg\u001b[0m\u001b[0;34m)\u001b[0m\u001b[0;34m\u001b[0m\u001b[0;34m\u001b[0m\u001b[0m\n\u001b[1;32m   1553\u001b[0m \u001b[0;34m\u001b[0m\u001b[0m\n",
      "\u001b[0;31mFileNotFoundError\u001b[0m: [Errno 2] No such file or directory: 'ffmpeg': 'ffmpeg'"
     ]
    }
   ],
   "source": [
    "subprocess.run(['ffmpeg', '-i', 'video1.ts', 'vid.mp4'])"
   ]
  },
  {
   "cell_type": "code",
   "execution_count": null,
   "metadata": {},
   "outputs": [],
   "source": []
  }
 ],
 "metadata": {
  "kernelspec": {
   "display_name": "Python 3",
   "language": "python",
   "name": "python3"
  },
  "language_info": {
   "codemirror_mode": {
    "name": "ipython",
    "version": 3
   },
   "file_extension": ".py",
   "mimetype": "text/x-python",
   "name": "python",
   "nbconvert_exporter": "python",
   "pygments_lexer": "ipython3",
   "version": "3.7.6"
  }
 },
 "nbformat": 4,
 "nbformat_minor": 4
}
